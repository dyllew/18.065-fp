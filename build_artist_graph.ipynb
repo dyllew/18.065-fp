{
 "cells": [
  {
   "cell_type": "code",
   "execution_count": 13,
   "metadata": {},
   "outputs": [],
   "source": [
    "import numpy as np\n",
    "import pandas as pd\n",
    "import matplotlib.pyplot as plt\n",
    "import networkx as nx\n",
    "from community import community_louvain\n",
    "import matplotlib.cm as cm\n",
    "\n",
    "from scipy.spatial.distance import cdist\n",
    "\n",
    "import json\n",
    "\n",
    "from os.path import join"
   ]
  },
  {
   "cell_type": "code",
   "execution_count": 14,
   "metadata": {},
   "outputs": [],
   "source": [
    "ARTIST_PATH = './artist_df.csv'\n",
    "artist_df = pd.read_csv(ARTIST_PATH)"
   ]
  },
  {
   "cell_type": "code",
   "execution_count": 9,
   "metadata": {},
   "outputs": [],
   "source": [
    "def make_artist_graph(path, similarity_matrix=None, edge_weight_threshold=0.1):\n",
    "    artist_df = pd.read_csv(path)\n",
    "    # aid -> artist id\n",
    "    # nid -> node id\n",
    "    aid_nid_map = {}\n",
    "    def add_aid_nid_mapping(aid_nid_map, aid, nid):\n",
    "        aid_nid_map[aid] = nid\n",
    "        return nid\n",
    "    artist_df['node_id'] = artist_df.apply(lambda row: add_aid_nid_mapping(aid_nid_map, row['artist_id'], row.name), axis = 1)\n",
    "    nid_aid_map = {nid: aid for (aid, nid) in aid_nid_map.items()}\n",
    "    nid_list = artist_df['node_id'].tolist()\n",
    "    artist_graph = nx.Graph()\n",
    "    artist_graph.add_nodes_from(artist_df['node_id'].tolist())\n",
    "    edge_attribute_list = []\n",
    "    if type(similarity_matrix) != type(None):\n",
    "        for nid in nid_list[:-1]:\n",
    "            for other_nid in nid_list[nid+1:]:\n",
    "                edge_weight = similarity_matrix[nid, other_nid]\n",
    "                if abs(edge_weight) > edge_weight_threshold:\n",
    "                    weight_dict = {'weight': edge_weight}\n",
    "                    edge = (nid, other_nid, weight_dict)\n",
    "                    edge_attribute_list.append(edge)\n",
    "        artist_graph.add_edges_from(edge_attribute_list)\n",
    "    else:\n",
    "        # Add the node attributes to the graph\n",
    "        node_attrs_dict = {}\n",
    "        for nid in nid_list:\n",
    "            row = artist_df.iloc[nid]\n",
    "            artist_attr_dict = {\n",
    "                'artist_name': row['artist_name'],\n",
    "                'total_plays': row['total_plays'],\n",
    "                'num_listeners': row['num_listeners'],\n",
    "                'play_ratio': row['play_ratio']\n",
    "            }\n",
    "            genres = row['genres'].replace(\"[\", \"\").replace(\"]\", \"\").replace(\"\\'\", \"\").split(', ')\n",
    "            track_freq = json.loads(row['track_freq'].replace(\"\\'\", \"\\\"\"))\n",
    "            top_listeners = json.loads(row['top_listeners'].replace(\"\\'\", \"\\\"\"))\n",
    "            artist_attr_dict['genres'], artist_attr_dict['track_freq'], artist_attr_dict['top_listeners'] = \\\n",
    "            genres, track_freq, top_listeners\n",
    "            node_attrs_dict[nid] = artist_attr_dict\n",
    "        nx.set_node_attributes(artist_graph, node_attrs_dict)\n",
    "        # create edge attributes and add them to the graph\n",
    "        for nid in nid_list[:-1]:\n",
    "            for other_nid in nid_list[nid+1:]:\n",
    "                nid_attr_dict, other_nid_attr_dict = artist_graph.nodes[nid], artist_graph.nodes[other_nid]\n",
    "                total_plays_abs_diff = abs(nid_attr_dict['total_plays'] - other_nid_attr_dict['total_plays'])\n",
    "                num_listeners_abs_diff = abs(nid_attr_dict['num_listeners'] - other_nid_attr_dict['num_listeners'])\n",
    "                play_ratio_abs_diff = abs(nid_attr_dict['play_ratio'] - other_nid_attr_dict['play_ratio'])\n",
    "                listener_overlap = len(set(nid_attr_dict['top_listeners'].keys()).intersection(\n",
    "                    set(other_nid_attr_dict['top_listeners'].keys())\n",
    "                )) - 1\n",
    "                edge_attr_dict = {\n",
    "                    'total_plays_abs_diff': total_plays_abs_diff,\n",
    "                    'num_listeners_abs_diff': num_listeners_abs_diff,\n",
    "                    'play_ratio_diff': play_ratio_abs_diff,\n",
    "                    'listerner_overlap': listener_overlap\n",
    "                }\n",
    "                edge = (nid, other_nid, edge_attr_dict)\n",
    "                edge_attribute_list.append(edge)\n",
    "        artist_graph.add_edges_from(edge_attribute_list)\n",
    "    return artist_graph, aid_nid_map, nid_aid_map"
   ]
  },
  {
   "cell_type": "code",
   "execution_count": 10,
   "metadata": {},
   "outputs": [],
   "source": [
    "artist_graph, aid_uid_map, nid_aid_map = make_artist_graph(ARTIST_PATH)"
   ]
  },
  {
   "cell_type": "code",
   "execution_count": 42,
   "metadata": {},
   "outputs": [],
   "source": [
    "def cluster_count(cluster_label, node_cluster_map):\n",
    "    count = 0\n",
    "    for nid, label in node_cluster_map.items():\n",
    "        if label == cluster_label:\n",
    "            count += 1\n",
    "    return count"
   ]
  },
  {
   "cell_type": "code",
   "execution_count": null,
   "metadata": {},
   "outputs": [],
   "source": [
    "artist_features = artist_df[['total_plays', 'num_listeners', 'play_ratio']].values\n",
    "correlation_matrix = cdist(artist_features, artist_features, 'correlation')"
   ]
  },
  {
   "cell_type": "code",
   "execution_count": 11,
   "metadata": {},
   "outputs": [],
   "source": [
    "artist_graph_from_corr, _, _ = make_artist_graph(ARTIST_PATH, similarity_matrix=correlation_matrix)"
   ]
  },
  {
   "cell_type": "code",
   "execution_count": 16,
   "metadata": {},
   "outputs": [],
   "source": [
    "partition = community_louvain.best_partition(artist_graph_from_corr)"
   ]
  },
  {
   "cell_type": "code",
   "execution_count": 44,
   "metadata": {},
   "outputs": [],
   "source": [
    "large_clusters = [cid for cid in set(partition.values()) if cluster_count(cid, partition) > 1]"
   ]
  },
  {
   "cell_type": "code",
   "execution_count": 66,
   "metadata": {},
   "outputs": [],
   "source": [
    "cluster_nodes_mapping = {cid:[] for cid in large_clusters}\n",
    "for nid, cid in partition.items():\n",
    "    if cid in cluster_nodes_mapping.keys():\n",
    "        cluster_nodes_mapping[cid].append(nid)"
   ]
  },
  {
   "cell_type": "code",
   "execution_count": 67,
   "metadata": {},
   "outputs": [
    {
     "data": {
      "text/plain": [
       "{1: [1,\n",
       "  2,\n",
       "  6,\n",
       "  18,\n",
       "  22,\n",
       "  25,\n",
       "  37,\n",
       "  39,\n",
       "  44,\n",
       "  47,\n",
       "  50,\n",
       "  53,\n",
       "  57,\n",
       "  72,\n",
       "  75,\n",
       "  77,\n",
       "  97,\n",
       "  105,\n",
       "  107,\n",
       "  115,\n",
       "  122,\n",
       "  123,\n",
       "  126],\n",
       " 4: [5,\n",
       "  8,\n",
       "  9,\n",
       "  15,\n",
       "  16,\n",
       "  17,\n",
       "  19,\n",
       "  24,\n",
       "  31,\n",
       "  32,\n",
       "  35,\n",
       "  36,\n",
       "  42,\n",
       "  43,\n",
       "  46,\n",
       "  52,\n",
       "  55,\n",
       "  56,\n",
       "  60,\n",
       "  64,\n",
       "  65,\n",
       "  70,\n",
       "  73,\n",
       "  79,\n",
       "  82,\n",
       "  83,\n",
       "  88,\n",
       "  94,\n",
       "  95,\n",
       "  120,\n",
       "  124],\n",
       " 9: [11,\n",
       "  13,\n",
       "  14,\n",
       "  20,\n",
       "  23,\n",
       "  26,\n",
       "  28,\n",
       "  29,\n",
       "  30,\n",
       "  38,\n",
       "  40,\n",
       "  48,\n",
       "  51,\n",
       "  58,\n",
       "  61,\n",
       "  62,\n",
       "  63,\n",
       "  74,\n",
       "  76,\n",
       "  78,\n",
       "  80,\n",
       "  81,\n",
       "  84,\n",
       "  90,\n",
       "  92,\n",
       "  93,\n",
       "  98,\n",
       "  100,\n",
       "  101,\n",
       "  102,\n",
       "  106,\n",
       "  108,\n",
       "  109,\n",
       "  110,\n",
       "  111,\n",
       "  112,\n",
       "  114,\n",
       "  116,\n",
       "  117,\n",
       "  118,\n",
       "  119,\n",
       "  125]}"
      ]
     },
     "execution_count": 67,
     "metadata": {},
     "output_type": "execute_result"
    }
   ],
   "source": [
    "cluster_nodes_mapping"
   ]
  },
  {
   "cell_type": "code",
   "execution_count": 18,
   "metadata": {},
   "outputs": [],
   "source": [
    "induced_graph = community_louvain.induced_graph(partition, artist_graph_from_corr)"
   ]
  },
  {
   "cell_type": "code",
   "execution_count": 46,
   "metadata": {},
   "outputs": [],
   "source": [
    "cluster_graph = induced_graph.subgraph(large_clusters)"
   ]
  },
  {
   "cell_type": "code",
   "execution_count": 64,
   "metadata": {},
   "outputs": [
    {
     "data": {
      "image/png": "[encoded data removed]",
      "text/plain": [
       "<Figure size 432x288 with 1 Axes>"
      ]
     },
     "metadata": {},
     "output_type": "display_data"
    }
   ],
   "source": [
    "# draw the graph\n",
    "pos = nx.spring_layout(cluster_graph)\n",
    "# color the nodes according to their partition\n",
    "cmap = cm.get_cmap('hsv', len(list(cluster_graph.nodes))*10)\n",
    "cluster_weights = nx.get_edge_attributes(cluster_graph, 'weight')\n",
    "nx.draw_networkx_nodes(cluster_graph, pos, node_size=350,\n",
    "                       cmap=cmap, node_color=[i for i in list(cluster_graph.nodes)])\n",
    "nx.draw_networkx_edges(cluster_graph, pos, alpha=0.5)\n",
    "nx.draw_networkx_edge_labels(cluster_graph, pos, edge_labels=cluster_weights)\n",
    "plt.show()"
   ]
  },
  {
   "cell_type": "code",
   "execution_count": 65,
   "metadata": {},
   "outputs": [
    {
     "data": {
      "image/png": "[encoded data removed]",
      "text/plain": [
       "<Figure size 432x288 with 1 Axes>"
      ]
     },
     "metadata": {},
     "output_type": "display_data"
    }
   ],
   "source": [
    "# draw the graph\n",
    "pos = nx.spring_layout(artist_graph_from_corr)\n",
    "# color the nodes according to their partition\n",
    "cmap = cm.get_cmap('viridis', max(partition.values()) + 1)\n",
    "nx.draw_networkx_nodes(artist_graph_from_corr, pos, partition.keys(), node_size=40,\n",
    "                       cmap=cmap, node_color=list(partition.values()))\n",
    "nx.draw_networkx_edges(artist_graph_from_corr, pos, alpha=0.5)\n",
    "plt.show()"
   ]
  },
  {
   "cell_type": "code",
   "execution_count": null,
   "metadata": {},
   "outputs": [],
   "source": []
  }
 ],
 "metadata": {
  "kernelspec": {
   "display_name": "Python 3",
   "language": "python",
   "name": "python3"
  },
  "language_info": {
   "codemirror_mode": {
    "name": "ipython",
    "version": 3
   },
   "file_extension": ".py",
   "mimetype": "text/x-python",
   "name": "python",
   "nbconvert_exporter": "python",
   "pygments_lexer": "ipython3",
   "version": "3.7.6"
  }
 },
 "nbformat": 4,
 "nbformat_minor": 4
}
