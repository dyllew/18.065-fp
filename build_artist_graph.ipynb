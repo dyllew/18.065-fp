{
 "cells": [
  {
   "cell_type": "code",
   "execution_count": 94,
   "metadata": {},
   "outputs": [],
   "source": [
    "import numpy as np\n",
    "import pandas as pd\n",
    "import matplotlib.pyplot as plt\n",
    "import networkx as nx\n",
    "from community import community_louvain\n",
    "import matplotlib.cm as cm\n",
    "\n",
    "from scipy.spatial.distance import cdist\n",
    "\n",
    "import json\n",
    "\n",
    "from os.path import join"
   ]
  },
  {
   "cell_type": "code",
   "execution_count": 95,
   "metadata": {},
   "outputs": [],
   "source": [
    "ARTIST_PATH = './artist_df.csv'\n",
    "artist_df = pd.read_csv(ARTIST_PATH)"
   ]
  },
  {
   "cell_type": "code",
   "execution_count": 97,
   "metadata": {},
   "outputs": [],
   "source": [
    "def make_artist_graph(path, similarity_matrix=None, edge_weight_threshold=0.1):\n",
    "    artist_df = pd.read_csv(path)\n",
    "    # aid -> artist id\n",
    "    # nid -> node id\n",
    "    aid_nid_map = {}\n",
    "    def add_aid_nid_mapping(aid_nid_map, aid, nid):\n",
    "        aid_nid_map[aid] = nid\n",
    "        return nid\n",
    "    artist_df['node_id'] = artist_df.apply(lambda row: add_aid_nid_mapping(aid_nid_map, row['artist_id'], row.name), axis = 1)\n",
    "    nid_aid_map = {nid: aid for (aid, nid) in aid_nid_map.items()}\n",
    "    nid_list = artist_df['node_id'].tolist()\n",
    "    artist_graph = nx.Graph()\n",
    "    artist_graph.add_nodes_from(artist_df['node_id'].tolist())\n",
    "    edge_attribute_list = []\n",
    "    if type(similarity_matrix) != type(None):\n",
    "        for nid in nid_list[:-1]:\n",
    "            for other_nid in nid_list[nid+1:]:\n",
    "                edge_weight = similarity_matrix[nid, other_nid]\n",
    "                if abs(edge_weight) > edge_weight_threshold:\n",
    "                    weight_dict = {'weight': edge_weight}\n",
    "                    edge = (nid, other_nid, weight_dict)\n",
    "                    edge_attribute_list.append(edge)\n",
    "        artist_graph.add_edges_from(edge_attribute_list)\n",
    "    else:\n",
    "        # Add the node attributes to the graph\n",
    "        node_attrs_dict = {}\n",
    "        for nid in nid_list:\n",
    "            row = artist_df.iloc[nid]\n",
    "            artist_attr_dict = {\n",
    "                'artist_name': row['artist_name'],\n",
    "                'total_plays': row['total_plays'],\n",
    "                'num_listeners': row['num_listeners'],\n",
    "                'play_ratio': row['play_ratio']\n",
    "            }\n",
    "            genres = row['genres'].replace(\"[\", \"\").replace(\"]\", \"\").replace(\"\\'\", \"\").split(', ')\n",
    "            track_freq = json.loads(row['track_freq'].replace(\"\\'\", \"\\\"\"))\n",
    "            top_listeners = json.loads(row['top_listeners'].replace(\"\\'\", \"\\\"\"))\n",
    "            artist_attr_dict['genres'], artist_attr_dict['track_freq'], artist_attr_dict['top_listeners'] = \\\n",
    "            genres, track_freq, top_listeners\n",
    "            node_attrs_dict[nid] = artist_attr_dict\n",
    "        nx.set_node_attributes(artist_graph, node_attrs_dict)\n",
    "        # create edge attributes and add them to the graph\n",
    "        for nid in nid_list[:-1]:\n",
    "            for other_nid in nid_list[nid+1:]:\n",
    "                nid_attr_dict, other_nid_attr_dict = artist_graph.nodes[nid], artist_graph.nodes[other_nid]\n",
    "                total_plays_abs_diff = abs(nid_attr_dict['total_plays'] - other_nid_attr_dict['total_plays'])\n",
    "                num_listeners_abs_diff = abs(nid_attr_dict['num_listeners'] - other_nid_attr_dict['num_listeners'])\n",
    "                play_ratio_abs_diff = abs(nid_attr_dict['play_ratio'] - other_nid_attr_dict['play_ratio'])\n",
    "                listener_overlap = len(set(nid_attr_dict['top_listeners'].keys()).intersection(\n",
    "                    set(other_nid_attr_dict['top_listeners'].keys())\n",
    "                )) - 1\n",
    "                edge_attr_dict = {\n",
    "                    'total_plays_abs_diff': total_plays_abs_diff,\n",
    "                    'num_listeners_abs_diff': num_listeners_abs_diff,\n",
    "                    'play_ratio_diff': play_ratio_abs_diff,\n",
    "                    'listerner_overlap': listener_overlap\n",
    "                }\n",
    "                edge = (nid, other_nid, edge_attr_dict)\n",
    "                edge_attribute_list.append(edge)\n",
    "        artist_graph.add_edges_from(edge_attribute_list)\n",
    "    return artist_graph, aid_nid_map, nid_aid_map"
   ]
  },
  {
   "cell_type": "code",
   "execution_count": 98,
   "metadata": {},
   "outputs": [],
   "source": [
    "artist_graph, aid_nid_map, nid_aid_map = make_artist_graph(ARTIST_PATH)"
   ]
  },
  {
   "cell_type": "code",
   "execution_count": 99,
   "metadata": {},
   "outputs": [],
   "source": [
    "def cluster_count(cluster_label, node_cluster_map):\n",
    "    count = 0\n",
    "    for nid, label in node_cluster_map.items():\n",
    "        if label == cluster_label:\n",
    "            count += 1\n",
    "    return count"
   ]
  },
  {
   "cell_type": "code",
   "execution_count": 103,
   "metadata": {},
   "outputs": [],
   "source": [
    "def calc_majority_labels(df, cluster_node_map, nid_aid_map):\n",
    "    cluster_majority_label_map = {}\n",
    "    for cid in cluster_node_map.keys():\n",
    "        tag_counts = {}\n",
    "        for nid in cluster_node_map[cid]:\n",
    "            aid = nid_aid_map[nid]\n",
    "            tag = df[df['artist_id'] == aid]['tag'].iloc[0]\n",
    "            if tag in tag_counts:\n",
    "                tag_counts[tag] += 1\n",
    "            else:\n",
    "                tag_counts[tag] = 1\n",
    "        # calc majority label based on count\n",
    "        max_label = None\n",
    "        max_label_count = 0\n",
    "        for tag, count in tag_counts.items():\n",
    "            if count >= max_label_count:\n",
    "                max_label_count = count\n",
    "                max_label = tag\n",
    "        \n",
    "        cluster_majority_label_map[cid] = max_label\n",
    "        \n",
    "    return cluster_majority_label_map\n",
    "\n",
    "def calc_accuracy(actual_tags, predicted_tags):\n",
    "    N = len(actual_tags)\n",
    "    num_correct = 0\n",
    "    for actual, pred in zip(actual_tags, predicted_tags):\n",
    "        if actual == pred:\n",
    "            num_correct += 1\n",
    "    return num_correct/N*100.0"
   ]
  },
  {
   "cell_type": "code",
   "execution_count": 101,
   "metadata": {},
   "outputs": [],
   "source": [
    "artist_features = artist_df[['total_plays', 'num_listeners', 'play_ratio']].values\n",
    "correlation_matrix = cdist(artist_features, artist_features, 'correlation')"
   ]
  },
  {
   "cell_type": "code",
   "execution_count": 102,
   "metadata": {},
   "outputs": [],
   "source": [
    "artist_graph_from_corr, _, _ = make_artist_graph(ARTIST_PATH, similarity_matrix=correlation_matrix)"
   ]
  },
  {
   "cell_type": "code",
   "execution_count": 131,
   "metadata": {},
   "outputs": [],
   "source": [
    "partition = community_louvain.best_partition(artist_graph_from_corr)"
   ]
  },
  {
   "cell_type": "code",
   "execution_count": 132,
   "metadata": {},
   "outputs": [],
   "source": [
    "cluster_nodes_mapping = {cid:[] for cid in set(partition.values())}\n",
    "for nid, cid in partition.items():\n",
    "    if cid in cluster_nodes_mapping.keys():\n",
    "        cluster_nodes_mapping[cid].append(nid)"
   ]
  },
  {
   "cell_type": "code",
   "execution_count": 133,
   "metadata": {},
   "outputs": [],
   "source": [
    "large_clusters = [cid for cid in cluster_nodes_mapping.keys() if len(cluster_nodes_mapping[cid]) > 1]"
   ]
  },
  {
   "cell_type": "code",
   "execution_count": 134,
   "metadata": {},
   "outputs": [],
   "source": [
    "cluster_majority_label_map = calc_majority_labels(artist_df, cluster_nodes_mapping, nid_aid_map)"
   ]
  },
  {
   "cell_type": "code",
   "execution_count": 154,
   "metadata": {},
   "outputs": [],
   "source": [
    "clustered_nodes = []\n",
    "for cid in large_clusters:\n",
    "    clustered_nodes.extend(cluster_nodes_mapping[cid])"
   ]
  },
  {
   "cell_type": "code",
   "execution_count": 155,
   "metadata": {},
   "outputs": [
    {
     "data": {
      "text/plain": [
       "[1,\n",
       " 2,\n",
       " 6,\n",
       " 18,\n",
       " 22,\n",
       " 25,\n",
       " 37,\n",
       " 39,\n",
       " 44,\n",
       " 47,\n",
       " 50,\n",
       " 53,\n",
       " 57,\n",
       " 72,\n",
       " 75,\n",
       " 77,\n",
       " 97,\n",
       " 105,\n",
       " 107,\n",
       " 115,\n",
       " 122,\n",
       " 123,\n",
       " 126,\n",
       " 5,\n",
       " 8,\n",
       " 9,\n",
       " 11,\n",
       " 13,\n",
       " 14,\n",
       " 15,\n",
       " 16,\n",
       " 17,\n",
       " 19,\n",
       " 20,\n",
       " 23,\n",
       " 24,\n",
       " 26,\n",
       " 28,\n",
       " 29,\n",
       " 30,\n",
       " 31,\n",
       " 32,\n",
       " 35,\n",
       " 36,\n",
       " 38,\n",
       " 40,\n",
       " 42,\n",
       " 43,\n",
       " 46,\n",
       " 48,\n",
       " 51,\n",
       " 52,\n",
       " 55,\n",
       " 56,\n",
       " 58,\n",
       " 60,\n",
       " 61,\n",
       " 62,\n",
       " 63,\n",
       " 64,\n",
       " 65,\n",
       " 70,\n",
       " 73,\n",
       " 74,\n",
       " 76,\n",
       " 78,\n",
       " 79,\n",
       " 80,\n",
       " 81,\n",
       " 82,\n",
       " 83,\n",
       " 84,\n",
       " 88,\n",
       " 90,\n",
       " 92,\n",
       " 93,\n",
       " 94,\n",
       " 95,\n",
       " 98,\n",
       " 100,\n",
       " 101,\n",
       " 102,\n",
       " 106,\n",
       " 108,\n",
       " 109,\n",
       " 110,\n",
       " 111,\n",
       " 112,\n",
       " 114,\n",
       " 116,\n",
       " 117,\n",
       " 118,\n",
       " 119,\n",
       " 120,\n",
       " 124,\n",
       " 125]"
      ]
     },
     "execution_count": 155,
     "metadata": {},
     "output_type": "execute_result"
    }
   ],
   "source": [
    "clustered_nodes"
   ]
  },
  {
   "cell_type": "code",
   "execution_count": 141,
   "metadata": {},
   "outputs": [],
   "source": [
    "nodes_list = list(nid_aid_map.keys())"
   ]
  },
  {
   "cell_type": "code",
   "execution_count": 144,
   "metadata": {},
   "outputs": [],
   "source": [
    "nodes_cluster_mapping = {nid:cid for cid in cluster_nodes_mapping.keys() for nid in cluster_nodes_mapping[cid]}\n",
    "predicted_labels = [cluster_majority_label_map[nodes_cluster_mapping[nid]] for nid in nodes_list]\n",
    "actual_labels = [artist_df[artist_df['artist_id'] == nid_aid_map[nid]]['tag'].iloc[0] for nid in nodes_list]"
   ]
  },
  {
   "cell_type": "code",
   "execution_count": 146,
   "metadata": {},
   "outputs": [],
   "source": [
    "accuracy_louvain = calc_accuracy(actual_labels, predicted_labels)"
   ]
  },
  {
   "cell_type": "code",
   "execution_count": 147,
   "metadata": {},
   "outputs": [
    {
     "data": {
      "text/plain": [
       "44.881889763779526"
      ]
     },
     "execution_count": 147,
     "metadata": {},
     "output_type": "execute_result"
    }
   ],
   "source": [
    "accuracy_louvain"
   ]
  },
  {
   "cell_type": "code",
   "execution_count": 148,
   "metadata": {},
   "outputs": [],
   "source": [
    "clustered_nodes_subgraph = artist_graph_from_corr.subgraph(clustered_nodes)\n",
    "colors = [nodes_cluster_mapping[nid] for nid in clustered_nodes]"
   ]
  },
  {
   "cell_type": "code",
   "execution_count": 149,
   "metadata": {},
   "outputs": [
    {
     "data": {
      "text/plain": [
       "[0,\n",
       " 1,\n",
       " 1,\n",
       " 1,\n",
       " 1,\n",
       " 1,\n",
       " 1,\n",
       " 1,\n",
       " 1,\n",
       " 1,\n",
       " 1,\n",
       " 1,\n",
       " 1,\n",
       " 1,\n",
       " 1,\n",
       " 1,\n",
       " 1,\n",
       " 1,\n",
       " 1,\n",
       " 1,\n",
       " 1,\n",
       " 1,\n",
       " 1,\n",
       " 1,\n",
       " 2,\n",
       " 3,\n",
       " 4,\n",
       " 5,\n",
       " 6,\n",
       " 7,\n",
       " 8,\n",
       " 9,\n",
       " 9,\n",
       " 9,\n",
       " 9,\n",
       " 9,\n",
       " 9,\n",
       " 9,\n",
       " 9,\n",
       " 9,\n",
       " 9,\n",
       " 9,\n",
       " 9,\n",
       " 9,\n",
       " 9,\n",
       " 9,\n",
       " 9,\n",
       " 9,\n",
       " 9,\n",
       " 9,\n",
       " 9,\n",
       " 9,\n",
       " 9,\n",
       " 9,\n",
       " 9,\n",
       " 9,\n",
       " 9,\n",
       " 9,\n",
       " 9,\n",
       " 9,\n",
       " 9,\n",
       " 9,\n",
       " 9,\n",
       " 9,\n",
       " 9,\n",
       " 9,\n",
       " 9,\n",
       " 9,\n",
       " 9,\n",
       " 9,\n",
       " 9,\n",
       " 9,\n",
       " 9,\n",
       " 9,\n",
       " 9,\n",
       " 9,\n",
       " 9,\n",
       " 9,\n",
       " 9,\n",
       " 9,\n",
       " 9,\n",
       " 9,\n",
       " 9,\n",
       " 9,\n",
       " 9,\n",
       " 9,\n",
       " 9,\n",
       " 9,\n",
       " 9,\n",
       " 9,\n",
       " 9,\n",
       " 9,\n",
       " 9,\n",
       " 9,\n",
       " 9,\n",
       " 9,\n",
       " 9,\n",
       " 9,\n",
       " 9,\n",
       " 9,\n",
       " 9,\n",
       " 9,\n",
       " 9,\n",
       " 9,\n",
       " 10,\n",
       " 11,\n",
       " 12,\n",
       " 13,\n",
       " 14,\n",
       " 15,\n",
       " 16,\n",
       " 17,\n",
       " 18,\n",
       " 19,\n",
       " 20,\n",
       " 21,\n",
       " 22,\n",
       " 23,\n",
       " 24,\n",
       " 25,\n",
       " 26,\n",
       " 27,\n",
       " 28,\n",
       " 29,\n",
       " 30,\n",
       " 31,\n",
       " 32]"
      ]
     },
     "execution_count": 149,
     "metadata": {},
     "output_type": "execute_result"
    }
   ],
   "source": [
    "colors"
   ]
  },
  {
   "cell_type": "code",
   "execution_count": 150,
   "metadata": {},
   "outputs": [
    {
     "data": {
      "image/png": "[encoded data removed]",
      "text/plain": [
       "<Figure size 432x288 with 1 Axes>"
      ]
     },
     "metadata": {},
     "output_type": "display_data"
    }
   ],
   "source": [
    "pos = nx.spring_layout(clustered_nodes_subgraph)\n",
    "# color the nodes according to their partition\n",
    "nx.draw_networkx_edges(clustered_nodes_subgraph, pos, alpha=0.2)\n",
    "nx.draw_networkx_nodes(clustered_nodes_subgraph, pos, nodelist=clustered_nodes, node_color=colors, \n",
    "                       node_size=50, cmap=plt.cm.jet)\n",
    "plt.show()"
   ]
  },
  {
   "cell_type": "code",
   "execution_count": 151,
   "metadata": {},
   "outputs": [],
   "source": [
    "induced_graph = community_louvain.induced_graph(partition, artist_graph_from_corr)"
   ]
  },
  {
   "cell_type": "code",
   "execution_count": 152,
   "metadata": {},
   "outputs": [],
   "source": [
    "cluster_graph = induced_graph.subgraph(large_clusters)"
   ]
  },
  {
   "cell_type": "code",
   "execution_count": 153,
   "metadata": {},
   "outputs": [
    {
     "data": {
      "image/png": "[encoded data removed]",
      "text/plain": [
       "<Figure size 432x288 with 1 Axes>"
      ]
     },
     "metadata": {},
     "output_type": "display_data"
    }
   ],
   "source": [
    "# draw the graph\n",
    "pos = nx.spring_layout(cluster_graph)\n",
    "# color the nodes according to their partition\n",
    "cluster_weights = nx.get_edge_attributes(cluster_graph, 'weight')\n",
    "nx.draw_networkx_nodes(cluster_graph, pos, nodelist=large_clusters, node_size=350,\n",
    "                       cmap=plt.cm.jet, node_color=large_clusters)\n",
    "nx.draw_networkx_edges(cluster_graph, pos, alpha=0.5)\n",
    "nx.draw_networkx_edge_labels(cluster_graph, pos, edge_labels=cluster_weights)\n",
    "plt.show()"
   ]
  },
  {
   "cell_type": "code",
   "execution_count": null,
   "metadata": {},
   "outputs": [],
   "source": []
  }
 ],
 "metadata": {
  "kernelspec": {
   "display_name": "Python 3",
   "language": "python",
   "name": "python3"
  },
  "language_info": {
   "codemirror_mode": {
    "name": "ipython",
    "version": 3
   },
   "file_extension": ".py",
   "mimetype": "text/x-python",
   "name": "python",
   "nbconvert_exporter": "python",
   "pygments_lexer": "ipython3",
   "version": "3.7.6"
  }
 },
 "nbformat": 4,
 "nbformat_minor": 4
}
