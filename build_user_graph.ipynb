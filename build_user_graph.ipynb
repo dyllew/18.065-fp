{
 "cells": [
  {
   "cell_type": "code",
   "execution_count": 9,
   "metadata": {},
   "outputs": [],
   "source": [
    "import numpy as np\n",
    "import pandas as pd\n",
    "import networkx as nx\n",
    "\n",
    "import json\n",
    "\n",
    "from os.path import join"
   ]
  },
  {
   "cell_type": "code",
   "execution_count": 10,
   "metadata": {},
   "outputs": [],
   "source": [
    "user_csv_path = './user_df.csv'\n",
    "user_df = pd.read_csv(user_csv_path)\n",
    "# uid -> user id\n",
    "# nid -> node id\n",
    "uid_nid_map = {}\n",
    "def add_uid_nid_mapping(uid_nid_map, uid, nid):\n",
    "    uid_nid_map[uid] = nid\n",
    "    return nid"
   ]
  },
  {
   "cell_type": "code",
   "execution_count": 11,
   "metadata": {},
   "outputs": [],
   "source": [
    "user_df['node_id'] = user_df.apply(lambda row: add_uid_nid_mapping(uid_nid_map, row['user_id'], row.name), axis = 1)\n",
    "nid_uid_map = {nid: uid for (uid, nid) in uid_nid_map.items()}\n",
    "nid_list = user_df['node_id'].tolist()\n",
    "# This creates a graph in which there is an undirected edge between each of the nodes\n",
    "user_graph = nx.complete_graph(len(nid_list))"
   ]
  },
  {
   "cell_type": "code",
   "execution_count": 12,
   "metadata": {},
   "outputs": [],
   "source": [
    "# Add the node attributes to the graph\n",
    "node_attrs_dict = {}\n",
    "for nid in nid_list:\n",
    "    row = user_df.iloc[nid]\n",
    "    num_listens, listening_duration = row['num_listens'], row['listening_duration']\n",
    "    song_map = json.loads(row['song_map'].replace(\"\\'\", \"\\\"\"))\n",
    "    artist_map = json.loads(row['artist_map'].replace(\"\\'\", \"\\\"\"))\n",
    "    node_attributes = {\n",
    "        'num_listens': num_listens, \n",
    "        'listening_duration': listening_duration, \n",
    "        'song_map': song_map,\n",
    "        'artist_map': artist_map\n",
    "                      }\n",
    "    node_attrs_dict[nid] = node_attributes\n",
    "nx.set_node_attributes(user_graph, node_attrs_dict)"
   ]
  },
  {
   "cell_type": "markdown",
   "metadata": {},
   "source": [
    "Create a fully connected undirected graph by adding edges between each of the nodes with edge features of dissimilarity. We use dissimilarity as the edge weights such that for an edge feature the users who have dissimilar listening preferences will share a larger weight along the edge for that feature and smaller weights for higher similarity."
   ]
  },
  {
   "cell_type": "code",
   "execution_count": 18,
   "metadata": {},
   "outputs": [],
   "source": [
    "# create edge attributes and add them to the graph\n",
    "edge_attribute_list = []\n",
    "for nid in nid_list[:-1]:\n",
    "    for other_nid in nid_list[nid+1:]:\n",
    "        nid_attr_dict, other_nid_attr_dict = user_graph.nodes[nid], user_graph.nodes[other_nid]\n",
    "        num_listens_abs_diff = abs(nid_attr_dict['num_listens'] - other_nid_attr_dict['num_listens'])\n",
    "        listening_dur_abs_diff = abs(nid_attr_dict['listening_duration'] - other_nid_attr_dict['listening_duration'])\n",
    "        edge_attr_dict = {\n",
    "            'num_listens_abs_diff': num_listens_abs_diff,\n",
    "            'listening_dur_abs_diff': listening_dur_abs_diff\n",
    "        }\n",
    "        edge = (nid, other_nid, edge_attr_dict)\n",
    "        edge_attribute_list.append(edge)\n",
    "user_graph.add_edges_from(edge_attribute_list)"
   ]
  }
 ],
 "metadata": {
  "kernelspec": {
   "display_name": "Python 3",
   "language": "python",
   "name": "python3"
  },
  "language_info": {
   "codemirror_mode": {
    "name": "ipython",
    "version": 3
   },
   "file_extension": ".py",
   "mimetype": "text/x-python",
   "name": "python",
   "nbconvert_exporter": "python",
   "pygments_lexer": "ipython3",
   "version": "3.7.6"
  }
 },
 "nbformat": 4,
 "nbformat_minor": 4
}
