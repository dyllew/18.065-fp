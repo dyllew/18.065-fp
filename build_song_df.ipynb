{
 "cells": [
  {
   "cell_type": "code",
   "execution_count": 161,
   "metadata": {},
   "outputs": [],
   "source": [
    "import numpy as np\n",
    "import pandas as pd\n",
    "import sqlite3\n",
    "import json\n",
    "from os import getcwd, environ\n",
    "import spotipy\n",
    "from spotipy.oauth2 import SpotifyClientCredentials"
   ]
  },
  {
   "cell_type": "code",
   "execution_count": 162,
   "metadata": {},
   "outputs": [],
   "source": [
    "environ[\"SPOTIPY_CLIENT_ID\"]='35eb9288550941109f8e0582bcd6bdf3'\n",
    "environ[\"SPOTIPY_CLIENT_SECRET\"]='dc00c8b7e55140518d8f62954af8876f'"
   ]
  },
  {
   "cell_type": "code",
   "execution_count": 163,
   "metadata": {},
   "outputs": [],
   "source": [
    "con = sqlite3.connect('track_metadata.db')\n",
    "track_map = pd.read_sql_query(\"SELECT * FROM track_map\", con)\n",
    "con.close()\n",
    "track_map.set_index('track_id',inplace=True)"
   ]
  },
  {
   "cell_type": "code",
   "execution_count": 164,
   "metadata": {},
   "outputs": [
    {
     "name": "stdout",
     "output_type": "stream",
     "text": [
      "                               song_id\n",
      "track_id                              \n",
      "TRAAAAW128F429D538  SOMZWCG12A8C13C480\n",
      "TRAAABD128F429CF47  SOCIWDW12A8C13D406\n",
      "TRAAADZ128F9348C2E  SOXVLOJ12AB0189215\n",
      "TRAAAEF128F4273421  SONHOTT12A8C13493C\n",
      "TRAAAFD128F92F423A  SOFSOCN12A8C143F5D\n"
     ]
    }
   ],
   "source": [
    "print(track_map.head())"
   ]
  },
  {
   "cell_type": "code",
   "execution_count": 165,
   "metadata": {},
   "outputs": [],
   "source": [
    "spotify_feature_list = ['tempo','time_signature',\\\n",
    "       'danceability','energy','key','loudness','speechiness','acousticness','instrumentalness','valence','liveness']"
   ]
  },
  {
   "cell_type": "code",
   "execution_count": 166,
   "metadata": {},
   "outputs": [],
   "source": [
    "def get_spotify_track_id(msd_track_id):\n",
    "    song_code = track_map.loc[msd_track_id]['song_id']\n",
    "    prefix_code = song_code[2:4]\n",
    "    json_file_path = getcwd()+'/millionsongdataset_echonest/'+prefix_code+'/'+song_code+'.json'\n",
    "    spotify_track_id = None\n",
    "    with open(json_file_path,'r') as open_file:\n",
    "        data = json.load(open_file)['response']['songs']\n",
    "        if len(data) != 0:\n",
    "            track_maps = data[0]['tracks']\n",
    "            for mapping in track_maps:\n",
    "                if mapping['catalog']=='spotify':\n",
    "                    spotify_track_id = mapping['foreign_id']\n",
    "                else: pass\n",
    "    return spotify_track_id"
   ]
  },
  {
   "cell_type": "code",
   "execution_count": 167,
   "metadata": {},
   "outputs": [],
   "source": [
    "def extract_df_row(spotify_track_id):\n",
    "    spotify = spotipy.Spotify(client_credentials_manager=SpotifyClientCredentials())\n",
    "    track_data = spotify.audio_features([spotify_track_id])[0]\n",
    "    return [track_data[feature] for feature in spotify_feature_list]"
   ]
  },
  {
   "cell_type": "code",
   "execution_count": 168,
   "metadata": {},
   "outputs": [],
   "source": [
    "spotify_df = pd.DataFrame(columns=['track_id','tempo','time_signature',\\\n",
    "       'danceability','energy','key','loudness','speechiness','acousticness','instrumentalness','valence','liveness'])\n",
    "spotify_df.set_index('track_id',inplace=True)"
   ]
  },
  {
   "cell_type": "code",
   "execution_count": 169,
   "metadata": {},
   "outputs": [
    {
     "name": "stdout",
     "output_type": "stream",
     "text": [
      "Empty DataFrame\n",
      "Columns: [tempo, time_signature, danceability, energy, key, loudness, speechiness, acousticness, instrumentalness, valence, liveness]\n",
      "Index: []\n"
     ]
    }
   ],
   "source": [
    "print(spotify_df.head())"
   ]
  },
  {
   "cell_type": "code",
   "execution_count": 171,
   "metadata": {},
   "outputs": [
    {
     "name": "stdout",
     "output_type": "stream",
     "text": [
      "0\n",
      "500\n",
      "1000\n",
      "1500\n",
      "2000\n",
      "2500\n",
      "3000\n",
      "3500\n",
      "4000\n",
      "4500\n",
      "5000\n",
      "5500\n",
      "6000\n",
      "6500\n",
      "7000\n",
      "7500\n",
      "8000\n",
      "8500\n",
      "9000\n",
      "9500\n"
     ]
    }
   ],
   "source": [
    "indices = track_map.index.values.tolist()\n",
    "for count, track_id in enumerate(indices):\n",
    "    if count%500==0:print(count)\n",
    "    spotify_track_id = get_spotify_track_id(track_id)\n",
    "    if spotify_track_id is not None:\n",
    "        new_row = extract_df_row(spotify_track_id)\n",
    "        spotify_df.loc[track_id] = new_row"
   ]
  },
  {
   "cell_type": "code",
   "execution_count": 173,
   "metadata": {},
   "outputs": [
    {
     "name": "stdout",
     "output_type": "stream",
     "text": [
      "                      tempo  time_signature  danceability  energy  key  \\\n",
      "track_id                                                                 \n",
      "TRAAABD128F429CF47  121.361             4.0         0.748   0.693  9.0   \n",
      "TRAAADZ128F9348C2E  102.463             4.0         0.699   0.519  8.0   \n",
      "TRAAAEF128F4273421  119.391             4.0         0.602   0.843  0.0   \n",
      "TRAAAFD128F92F423A  129.702             4.0         0.527   0.910  2.0   \n",
      "TRAAAMO128F1481E7F  147.565             4.0         0.456   0.472  5.0   \n",
      "\n",
      "                    loudness  speechiness  acousticness  instrumentalness  \\\n",
      "track_id                                                                    \n",
      "TRAAABD128F429CF47    -7.507       0.0302       0.20000          0.000019   \n",
      "TRAAADZ128F9348C2E    -6.422       0.0290       0.68900          0.000471   \n",
      "TRAAAEF128F4273421    -9.119       0.0426       0.57500          0.000268   \n",
      "TRAAAFD128F92F423A    -4.513       0.0582       0.00033          0.657000   \n",
      "TRAAAMO128F1481E7F    -8.328       0.0325       0.70600          0.000005   \n",
      "\n",
      "                    valence  liveness  \n",
      "track_id                               \n",
      "TRAAABD128F429CF47    0.969    0.0930  \n",
      "TRAAADZ128F9348C2E    0.676    0.9350  \n",
      "TRAAAEF128F4273421    0.819    0.2060  \n",
      "TRAAAFD128F92F423A    0.642    0.0947  \n",
      "TRAAAMO128F1481E7F    0.286    0.0833  \n",
      "(7639, 11)\n"
     ]
    }
   ],
   "source": [
    "print(spotify_df.head())\n",
    "print(spotify_df.shape)"
   ]
  },
  {
   "cell_type": "code",
   "execution_count": 174,
   "metadata": {},
   "outputs": [],
   "source": [
    "spotify_df.to_csv(getcwd()+'/spotify_df.csv')"
   ]
  },
  {
   "cell_type": "code",
   "execution_count": null,
   "metadata": {},
   "outputs": [],
   "source": []
  }
 ],
 "metadata": {
  "kernelspec": {
   "display_name": "Python 3",
   "language": "python",
   "name": "python3"
  },
  "language_info": {
   "codemirror_mode": {
    "name": "ipython",
    "version": 3
   },
   "file_extension": ".py",
   "mimetype": "text/x-python",
   "name": "python",
   "nbconvert_exporter": "python",
   "pygments_lexer": "ipython3",
   "version": "3.8.5"
  }
 },
 "nbformat": 4,
 "nbformat_minor": 4
}
