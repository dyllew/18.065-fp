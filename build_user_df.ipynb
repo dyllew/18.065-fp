{
 "cells": [
  {
   "cell_type": "markdown",
   "metadata": {},
   "source": [
    "## Code to build the user graph dataframe"
   ]
  },
  {
   "cell_type": "code",
   "execution_count": 1,
   "metadata": {},
   "outputs": [],
   "source": [
    "import numpy as np\n",
    "import pandas as pd\n",
    "import sqlite3\n",
    "from os import getcwd"
   ]
  },
  {
   "cell_type": "code",
   "execution_count": 62,
   "metadata": {},
   "outputs": [],
   "source": [
    "# Download a filtered (~900) set of (user/track/num_plays) triples from SQLite\n",
    "con = sqlite3.connect('track_metadata.db')\n",
    "reduced_triples = pd.read_sql_query(\"SELECT * FROM balanced_subset\", con)\n",
    "con.close()"
   ]
  },
  {
   "cell_type": "code",
   "execution_count": 67,
   "metadata": {},
   "outputs": [],
   "source": [
    "# Download song metadata information (artist_name, album, release year) for the filtered tracks\n",
    "con = sqlite3.connect('track_metadata.db')\n",
    "song_info = pd.read_sql_query(\"SELECT * FROM subset_songs\", con)\n",
    "con.close()\n",
    "song_info.set_index(['track_id'],inplace=True) # make track_id row key"
   ]
  },
  {
   "cell_type": "code",
   "execution_count": 63,
   "metadata": {},
   "outputs": [],
   "source": [
    "# Initialize a dataframe, indexed by user_id\n",
    "user_df = pd.DataFrame()\n",
    "# sort user_id(s) in increasing order, this makes groupby an easy way to correctly join in new columns\n",
    "user_df['user_id'] = np.sort(np.unique(reduced_triples['user_id']))\n",
    "user_df.set_index(['user_id'],inplace=True)\n",
    "\n",
    "# Add columns for number of plays and duration of plays\n",
    "user_df['num_listens'] = reduced_triples.groupby('user_id')['num_plays'].sum()\n",
    "user_df['listening_duration'] = reduced_triples.groupby('user_id')['duration'].sum() # in minutes\n",
    "user_df.listening_duration = user_df.listening_duration.astype('int32')"
   ]
  },
  {
   "cell_type": "code",
   "execution_count": 69,
   "metadata": {},
   "outputs": [],
   "source": [
    "# For each user build two dictionaries which will become columns\n",
    "user_to_tracks = reduced_triples.groupby('user_id')['track_id'].apply(list).to_dict()\n",
    "user_track_list = [] # Will hold dictionaries for each user and be turned into a columns\n",
    "user_artist_list = []\n",
    "for user_id, songs in user_to_tracks.items():\n",
    "    track_dict = {} # maps track_id to num_plays\n",
    "    artist_dict = {} # maps artist_id to num_plays\n",
    "    for song in songs:\n",
    "        num_plays = reduced_triples.loc[(reduced_triples['user_id']==user_id) & (reduced_triples['track_id']==song)]['num_plays']\n",
    "        track_dict[song] = int(num_plays)\n",
    "        artist_id = song_info.loc[song]['artist_id']\n",
    "        if artist_id not in artist_dict: artist_dict[artist_id] = int(num_plays)\n",
    "        else: artist_dict[artist_id] = artist_dict[artist_id] + int(num_plays)\n",
    "        \n",
    "    user_track_list.append(track_dict)\n",
    "    user_artist_list.append(artist_dict)\n",
    "    \n",
    "# Create new columns\n",
    "user_df['song_map'] = pd.Series(user_track_list,index=user_df.index.tolist())\n",
    "user_df['artist_map'] = pd.Series(user_artist_list,index=user_df.index.tolist())"
   ]
  },
  {
   "cell_type": "code",
   "execution_count": 84,
   "metadata": {},
   "outputs": [],
   "source": [
    "#user_df.to_csv(getcwd()+'/user_df.csv')\n",
    "#reduced_triples.to_csv(getcwd()+'/reduced_triples_df.csv')\n",
    "#song_info.to_csv(getcwd()+'/song_info_df.csv')"
   ]
  },
  {
   "cell_type": "code",
   "execution_count": 82,
   "metadata": {},
   "outputs": [
    {
     "name": "stdout",
     "output_type": "stream",
     "text": [
      "                                          num_listens  listening_duration  \\\n",
      "user_id                                                                     \n",
      "00729b0737db58cbd2d20b1037b3591beead6d72          169                 363   \n",
      "00a9055cd54e8364080768065e13581544b7ff94          329                 191   \n",
      "013de579fc16527ecaf104cb3a210f8258c99e05          103                 307   \n",
      "021a670f55f7a440722f8508fc7629e4ff709ff3          268                 269   \n",
      "032407039784e7302672e0ef0203f5836b518eca          229                 983   \n",
      "\n",
      "                                                                                   song_map  \\\n",
      "user_id                                                                                       \n",
      "00729b0737db58cbd2d20b1037b3591beead6d72                        {'TRBDQUF128F42AE54C': 169}   \n",
      "00a9055cd54e8364080768065e13581544b7ff94                        {'TRAATBN128F14ACE82': 329}   \n",
      "013de579fc16527ecaf104cb3a210f8258c99e05  {'TRAURYF128F147805D': 39, 'TRAWLYS12903CCFEFC...   \n",
      "021a670f55f7a440722f8508fc7629e4ff709ff3                        {'TRAWBHE12903CBC4CB': 268}   \n",
      "032407039784e7302672e0ef0203f5836b518eca  {'TRAGMXK128F9305A50': 1, 'TRBHRGD12903CA7A58'...   \n",
      "\n",
      "                                                                                 artist_map  \n",
      "user_id                                                                                      \n",
      "00729b0737db58cbd2d20b1037b3591beead6d72                        {'ARAA1VM1187B994013': 169}  \n",
      "00a9055cd54e8364080768065e13581544b7ff94                        {'ARBM57Q1187B9AF97C': 329}  \n",
      "013de579fc16527ecaf104cb3a210f8258c99e05  {'ARR3ONV1187B9A2F59': 39, 'AR3THYK1187B999F1F...  \n",
      "021a670f55f7a440722f8508fc7629e4ff709ff3                        {'ARKQQZA12086C116FC': 268}  \n",
      "032407039784e7302672e0ef0203f5836b518eca  {'AR02YGA1187B9B8AC4': 1, 'ARVUN5F1187FB4CCC7'...  \n"
     ]
    }
   ],
   "source": [
    "with pd.option_context('display.max_rows', None, 'display.max_columns', None):  # more options can be specified also\n",
    "    print(user_df.head(5))"
   ]
  },
  {
   "cell_type": "code",
   "execution_count": null,
   "metadata": {},
   "outputs": [],
   "source": []
  }
 ],
 "metadata": {
  "kernelspec": {
   "display_name": "Python 3",
   "language": "python",
   "name": "python3"
  },
  "language_info": {
   "codemirror_mode": {
    "name": "ipython",
    "version": 3
   },
   "file_extension": ".py",
   "mimetype": "text/x-python",
   "name": "python",
   "nbconvert_exporter": "python",
   "pygments_lexer": "ipython3",
   "version": "3.7.6"
  }
 },
 "nbformat": 4,
 "nbformat_minor": 4
}
