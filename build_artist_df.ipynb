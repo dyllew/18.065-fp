{
 "cells": [
  {
   "cell_type": "markdown",
   "metadata": {},
   "source": [
    "## Code to build the artist graph dataframe"
   ]
  },
  {
   "cell_type": "code",
   "execution_count": 100,
   "metadata": {},
   "outputs": [],
   "source": [
    "import numpy as np\n",
    "import pandas as pd\n",
    "import sqlite3\n",
    "from os import getcwd, environ\n",
    "import json"
   ]
  },
  {
   "cell_type": "code",
   "execution_count": 11,
   "metadata": {},
   "outputs": [],
   "source": [
    "import spotipy\n",
    "from spotipy.oauth2 import SpotifyClientCredentials\n",
    "environ[\"SPOTIPY_CLIENT_ID\"]='35eb9288550941109f8e0582bcd6bdf3'\n",
    "environ[\"SPOTIPY_CLIENT_SECRET\"]='dc00c8b7e55140518d8f62954af8876f'"
   ]
  },
  {
   "cell_type": "code",
   "execution_count": 12,
   "metadata": {},
   "outputs": [],
   "source": [
    "# Download a table of artists with at least MIN_PLAYS song streams from MIN_LISTENERS unique listeners\n",
    "MIN_PLAYS = 1000\n",
    "MIN_LISTENERS = 50\n",
    "query_string = \"SELECT artist_id, artist_name, SUM(song_plays) AS total_plays, num_listeners FROM \\\n",
    "    (SELECT subset_songs.artist_id, subset_songs.artist_name, subset_triples.track_id, SUM(subset_triples.num_plays) AS song_plays, COUNT(*) as num_listeners\\\n",
    "    FROM subset_triples LEFT JOIN subset_songs ON subset_triples.track_id=subset_songs.track_id GROUP BY subset_triples.track_id) \\\n",
    "    GROUP BY artist_id HAVING total_plays >= {} AND num_listeners>={}\".format(MIN_PLAYS,MIN_LISTENERS)\n",
    "con = sqlite3.connect('track_metadata.db')\n",
    "artist_base_table = pd.read_sql_query(query_string, con)\n",
    "con.close()"
   ]
  },
  {
   "cell_type": "code",
   "execution_count": 13,
   "metadata": {},
   "outputs": [
    {
     "name": "stdout",
     "output_type": "stream",
     "text": [
      "(207, 4)\n",
      "                           artist_name  total_plays  num_listeners  play_ratio\n",
      "artist_id                                                                     \n",
      "AR02YGA1187B9B8AC4  Bersuit Vergarabat         3627           1269    2.858156\n",
      "AR035N21187FB3938E                  BT         1391             63   22.079365\n",
      "AR03BDP1187FB5B324      Britney Spears         9419             86  109.523256\n",
      "AR040QX1187FB4CFE1        Alexisonfire         1528            474    3.223629\n",
      "AR048JZ1187B9AEB85          Yellowcard         2872           1136    2.528169\n"
     ]
    }
   ],
   "source": [
    "artist_base_table.set_index(['artist_id'],inplace=True) # make artist_id row key\n",
    "# new column of mean plays per listener, measure of fandom\n",
    "artist_base_table['play_ratio'] = artist_base_table['total_plays']/artist_base_table['num_listeners'] \n",
    "print(artist_base_table.shape)\n",
    "print(artist_base_table.head())"
   ]
  },
  {
   "cell_type": "code",
   "execution_count": 17,
   "metadata": {},
   "outputs": [],
   "source": [
    "con = sqlite3.connect('track_metadata.db')\n",
    "query_string = \"SELECT subset_songs.artist_id, subset_triples.track_id \\\n",
    "    FROM subset_triples LEFT JOIN subset_songs \\\n",
    "    ON subset_triples.track_id=subset_songs.track_id GROUP BY subset_triples.track_id\"\n",
    "artist_track_table = pd.read_sql_query(query_string, con)\n",
    "con.close()\n",
    "artist_track_table.set_index(['track_id'],inplace=True) # make track_id row key"
   ]
  },
  {
   "cell_type": "code",
   "execution_count": 41,
   "metadata": {},
   "outputs": [],
   "source": [
    "# Table to map track_id to number of total plays\n",
    "con = sqlite3.connect('track_metadata.db')\n",
    "query_string = \"SELECT track_id, SUM(num_plays) as total_plays FROM subset_triples GROUP BY track_id\"\n",
    "track_information = pd.read_sql_query(query_string, con)\n",
    "con.close()\n",
    "track_information.set_index(['track_id'],inplace=True) # make track_id row key"
   ]
  },
  {
   "cell_type": "code",
   "execution_count": 40,
   "metadata": {},
   "outputs": [],
   "source": [
    "# Build a dictionary mapping tracks to number of plays for a specified artist\n",
    "def get_freq_dict(artist_id):\n",
    "    track_list = artist_track_table.index[artist_track_table['artist_id'] == artist_id].tolist() \n",
    "    artist_freq_dict = {}\n",
    "    for track in track_list:\n",
    "        num_plays = track_information.loc[track]['total_plays']\n",
    "        artist_freq_dict[track] = num_plays\n",
    "    return artist_freq_dict"
   ]
  },
  {
   "cell_type": "code",
   "execution_count": 46,
   "metadata": {},
   "outputs": [],
   "source": [
    "artist_base_table['track_freq'] = artist_base_table.index.map(get_freq_dict)"
   ]
  },
  {
   "cell_type": "code",
   "execution_count": 49,
   "metadata": {},
   "outputs": [],
   "source": [
    "# Table of triples (user_id, artist_id, num_streams)\n",
    "con = sqlite3.connect('track_metadata.db')\n",
    "query_string = \"SELECT user_id, SUM(num_plays) as user_plays, artist_id FROM \\\n",
    "    (SELECT *  FROM (subset_triples LEFT JOIN subset_songs ON subset_triples.track_id=subset_songs.track_id))\\\n",
    "    GROUP BY user_id, artist_id\"\n",
    "user_artist_df = pd.read_sql_query(query_string, con)\n",
    "con.close()"
   ]
  },
  {
   "cell_type": "code",
   "execution_count": 90,
   "metadata": {},
   "outputs": [],
   "source": [
    "# Build a dictionary mapping artists to the user_id of top k streamers\n",
    "def get_user_dict(artist_id, k=1):\n",
    "    artist_user_dict = {}\n",
    "    artist_subtable = user_artist_df[user_artist_df['artist_id'] == artist_id] # get all users who stream this artist\n",
    "    artist_top_users = artist_subtable.nlargest(k, 'user_plays') # filter to top k (ties are cut off)\n",
    "    \n",
    "    total_plays_topk = 0 \n",
    "    for index,user in artist_top_users.iterrows(): #build dictionary\n",
    "        total_plays_topk += user['user_plays']\n",
    "        artist_user_dict[user['user_id']] = user['user_plays']\n",
    "        \n",
    "    artist_total_plays = artist_base_table.loc[artist_id]['total_plays']\n",
    "    top_k_ratio = total_plays_topk/artist_total_plays # What % of streams come from these top k listeners\n",
    "    artist_user_dict['top_k_ratio'] = top_k_ratio\n",
    "    return artist_user_dict"
   ]
  },
  {
   "cell_type": "code",
   "execution_count": 91,
   "metadata": {},
   "outputs": [],
   "source": [
    "artist_base_table['top_listeners'] = artist_base_table.index.map(get_user_dict)"
   ]
  },
  {
   "cell_type": "code",
   "execution_count": 93,
   "metadata": {},
   "outputs": [],
   "source": [
    "artist_id = 'AR03BDP1187FB5B324'"
   ]
  },
  {
   "cell_type": "code",
   "execution_count": 95,
   "metadata": {},
   "outputs": [],
   "source": [
    "con = sqlite3.connect('track_metadata.db')\n",
    "track_map = pd.read_sql_query(\"SELECT * FROM track_map\", con)\n",
    "con.close()\n",
    "track_map.set_index('track_id',inplace=True)"
   ]
  },
  {
   "cell_type": "code",
   "execution_count": 104,
   "metadata": {},
   "outputs": [
    {
     "name": "stdout",
     "output_type": "stream",
     "text": [
      "spotify:artist:26dSoYclwsYLMAKD3tpOr4\n"
     ]
    }
   ],
   "source": [
    "def get_spotify_artist_id(artist_id):\n",
    "    # Spotify genre tags for an artist\n",
    "    # this information is stored in the track_map .json files\n",
    "    track_dictionary = artist_base_table.loc[artist_id]['track_freq']\n",
    "    top_played_song = max(track_dictionary, key=track_dictionary.get) # get the id of their top song\n",
    "    song_code = track_map.loc[top_played_song]['song_id']\n",
    "    prefix_code = song_code[2:4]\n",
    "    json_file_path = getcwd()+'/millionsongdataset_echonest/'+prefix_code+'/'+song_code+'.json'\n",
    "    \n",
    "    spotify_artist_id = None\n",
    "    with open(json_file_path,'r') as open_file:\n",
    "        data = json.load(open_file)['response']['songs']\n",
    "        if len(data) != 0:\n",
    "            artist_maps = data[0]['artist_foreign_ids']\n",
    "            for mapping in artist_maps:\n",
    "                if mapping['catalog']=='spotify':\n",
    "                    spotify_artist_id = mapping['foreign_id']\n",
    "                else: pass\n",
    "    return spotify_artist_id\n",
    "print(get_spotify_artist_id(artist_id))"
   ]
  },
  {
   "cell_type": "code",
   "execution_count": 115,
   "metadata": {},
   "outputs": [],
   "source": [
    "def get_genre_tags(artist_id):\n",
    "    spotify_id = get_spotify_artist_id(artist_id)\n",
    "    if spotify_id is None: return []\n",
    "    spotify = spotipy.Spotify(client_credentials_manager=SpotifyClientCredentials())\n",
    "    artist_data = spotify.artist(spotify_id)\n",
    "    genre_list = artist_data['genres']\n",
    "    return genre_list"
   ]
  },
  {
   "cell_type": "code",
   "execution_count": 119,
   "metadata": {},
   "outputs": [
    {
     "ename": "ValueError",
     "evalue": "('Lengths must match to compare', (207,), (0,))",
     "output_type": "error",
     "traceback": [
      "\u001b[0;31m---------------------------------------------------------------------------\u001b[0m",
      "\u001b[0;31mValueError\u001b[0m                                Traceback (most recent call last)",
      "\u001b[0;32m<ipython-input-119-8a30b8f99050>\u001b[0m in \u001b[0;36m<module>\u001b[0;34m\u001b[0m\n\u001b[1;32m      1\u001b[0m \u001b[0martist_base_table\u001b[0m\u001b[0;34m[\u001b[0m\u001b[0;34m'genres'\u001b[0m\u001b[0;34m]\u001b[0m \u001b[0;34m=\u001b[0m \u001b[0martist_base_table\u001b[0m\u001b[0;34m.\u001b[0m\u001b[0mindex\u001b[0m\u001b[0;34m.\u001b[0m\u001b[0mmap\u001b[0m\u001b[0;34m(\u001b[0m\u001b[0mget_genre_tags\u001b[0m\u001b[0;34m)\u001b[0m\u001b[0;34m\u001b[0m\u001b[0;34m\u001b[0m\u001b[0m\n\u001b[0;32m----> 2\u001b[0;31m \u001b[0mfiltered_artists\u001b[0m \u001b[0;34m=\u001b[0m \u001b[0martist_base_table\u001b[0m\u001b[0;34m[\u001b[0m\u001b[0martist_base_table\u001b[0m\u001b[0;34m[\u001b[0m\u001b[0;34m'genres'\u001b[0m\u001b[0;34m]\u001b[0m \u001b[0;34m!=\u001b[0m \u001b[0;34m[\u001b[0m\u001b[0;34m]\u001b[0m\u001b[0;34m]\u001b[0m \u001b[0;31m# drop artists with no genre tags\u001b[0m\u001b[0;34m\u001b[0m\u001b[0;34m\u001b[0m\u001b[0m\n\u001b[0m",
      "\u001b[0;32m~/opt/anaconda3/lib/python3.8/site-packages/pandas/core/ops/common.py\u001b[0m in \u001b[0;36mnew_method\u001b[0;34m(self, other)\u001b[0m\n\u001b[1;32m     63\u001b[0m         \u001b[0mother\u001b[0m \u001b[0;34m=\u001b[0m \u001b[0mitem_from_zerodim\u001b[0m\u001b[0;34m(\u001b[0m\u001b[0mother\u001b[0m\u001b[0;34m)\u001b[0m\u001b[0;34m\u001b[0m\u001b[0;34m\u001b[0m\u001b[0m\n\u001b[1;32m     64\u001b[0m \u001b[0;34m\u001b[0m\u001b[0m\n\u001b[0;32m---> 65\u001b[0;31m         \u001b[0;32mreturn\u001b[0m \u001b[0mmethod\u001b[0m\u001b[0;34m(\u001b[0m\u001b[0mself\u001b[0m\u001b[0;34m,\u001b[0m \u001b[0mother\u001b[0m\u001b[0;34m)\u001b[0m\u001b[0;34m\u001b[0m\u001b[0;34m\u001b[0m\u001b[0m\n\u001b[0m\u001b[1;32m     66\u001b[0m \u001b[0;34m\u001b[0m\u001b[0m\n\u001b[1;32m     67\u001b[0m     \u001b[0;32mreturn\u001b[0m \u001b[0mnew_method\u001b[0m\u001b[0;34m\u001b[0m\u001b[0;34m\u001b[0m\u001b[0m\n",
      "\u001b[0;32m~/opt/anaconda3/lib/python3.8/site-packages/pandas/core/ops/__init__.py\u001b[0m in \u001b[0;36mwrapper\u001b[0;34m(self, other)\u001b[0m\n\u001b[1;32m    368\u001b[0m         \u001b[0mrvalues\u001b[0m \u001b[0;34m=\u001b[0m \u001b[0mextract_array\u001b[0m\u001b[0;34m(\u001b[0m\u001b[0mother\u001b[0m\u001b[0;34m,\u001b[0m \u001b[0mextract_numpy\u001b[0m\u001b[0;34m=\u001b[0m\u001b[0;32mTrue\u001b[0m\u001b[0;34m)\u001b[0m\u001b[0;34m\u001b[0m\u001b[0;34m\u001b[0m\u001b[0m\n\u001b[1;32m    369\u001b[0m \u001b[0;34m\u001b[0m\u001b[0m\n\u001b[0;32m--> 370\u001b[0;31m         \u001b[0mres_values\u001b[0m \u001b[0;34m=\u001b[0m \u001b[0mcomparison_op\u001b[0m\u001b[0;34m(\u001b[0m\u001b[0mlvalues\u001b[0m\u001b[0;34m,\u001b[0m \u001b[0mrvalues\u001b[0m\u001b[0;34m,\u001b[0m \u001b[0mop\u001b[0m\u001b[0;34m)\u001b[0m\u001b[0;34m\u001b[0m\u001b[0;34m\u001b[0m\u001b[0m\n\u001b[0m\u001b[1;32m    371\u001b[0m \u001b[0;34m\u001b[0m\u001b[0m\n\u001b[1;32m    372\u001b[0m         \u001b[0;32mreturn\u001b[0m \u001b[0mself\u001b[0m\u001b[0;34m.\u001b[0m\u001b[0m_construct_result\u001b[0m\u001b[0;34m(\u001b[0m\u001b[0mres_values\u001b[0m\u001b[0;34m,\u001b[0m \u001b[0mname\u001b[0m\u001b[0;34m=\u001b[0m\u001b[0mres_name\u001b[0m\u001b[0;34m)\u001b[0m\u001b[0;34m\u001b[0m\u001b[0;34m\u001b[0m\u001b[0m\n",
      "\u001b[0;32m~/opt/anaconda3/lib/python3.8/site-packages/pandas/core/ops/array_ops.py\u001b[0m in \u001b[0;36mcomparison_op\u001b[0;34m(left, right, op)\u001b[0m\n\u001b[1;32m    222\u001b[0m         \u001b[0;31m#  The ambiguous case is object-dtype.  See GH#27803\u001b[0m\u001b[0;34m\u001b[0m\u001b[0;34m\u001b[0m\u001b[0;34m\u001b[0m\u001b[0m\n\u001b[1;32m    223\u001b[0m         \u001b[0;32mif\u001b[0m \u001b[0mlen\u001b[0m\u001b[0;34m(\u001b[0m\u001b[0mlvalues\u001b[0m\u001b[0;34m)\u001b[0m \u001b[0;34m!=\u001b[0m \u001b[0mlen\u001b[0m\u001b[0;34m(\u001b[0m\u001b[0mrvalues\u001b[0m\u001b[0;34m)\u001b[0m\u001b[0;34m:\u001b[0m\u001b[0;34m\u001b[0m\u001b[0;34m\u001b[0m\u001b[0m\n\u001b[0;32m--> 224\u001b[0;31m             raise ValueError(\n\u001b[0m\u001b[1;32m    225\u001b[0m                 \u001b[0;34m\"Lengths must match to compare\"\u001b[0m\u001b[0;34m,\u001b[0m \u001b[0mlvalues\u001b[0m\u001b[0;34m.\u001b[0m\u001b[0mshape\u001b[0m\u001b[0;34m,\u001b[0m \u001b[0mrvalues\u001b[0m\u001b[0;34m.\u001b[0m\u001b[0mshape\u001b[0m\u001b[0;34m\u001b[0m\u001b[0;34m\u001b[0m\u001b[0m\n\u001b[1;32m    226\u001b[0m             )\n",
      "\u001b[0;31mValueError\u001b[0m: ('Lengths must match to compare', (207,), (0,))"
     ]
    }
   ],
   "source": [
    "artist_base_table['genres'] = artist_base_table.index.map(get_genre_tags)\n",
    "filtered_artists = artist_base_table[artist_base_table['genres'] != []] # drop artists with no genre tags"
   ]
  },
  {
   "cell_type": "code",
   "execution_count": null,
   "metadata": {},
   "outputs": [],
   "source": [
    "print(filtered_artists.head())"
   ]
  },
  {
   "cell_type": "code",
   "execution_count": null,
   "metadata": {},
   "outputs": [],
   "source": [
    "filtered_artists.to_csv(getcwd()+'/artist_df.csv')"
   ]
  },
  {
   "cell_type": "code",
   "execution_count": null,
   "metadata": {},
   "outputs": [],
   "source": []
  }
 ],
 "metadata": {
  "kernelspec": {
   "display_name": "Python 3",
   "language": "python",
   "name": "python3"
  },
  "language_info": {
   "codemirror_mode": {
    "name": "ipython",
    "version": 3
   },
   "file_extension": ".py",
   "mimetype": "text/x-python",
   "name": "python",
   "nbconvert_exporter": "python",
   "pygments_lexer": "ipython3",
   "version": "3.8.5"
  }
 },
 "nbformat": 4,
 "nbformat_minor": 4
}
